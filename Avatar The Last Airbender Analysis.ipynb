{
 "cells": [
  {
   "cell_type": "code",
   "execution_count": 204,
   "metadata": {},
   "outputs": [],
   "source": [
    "#set up\n",
    "import pandas as pd\n",
    "pd.plotting.register_matplotlib_converters()\n",
    "import matplotlib.pyplot as plt\n",
    "%matplotlib inline\n",
    "import seaborn as sns"
   ]
  },
  {
   "cell_type": "code",
   "execution_count": 205,
   "metadata": {},
   "outputs": [
    {
     "data": {
      "text/html": [
       "<div>\n",
       "<style scoped>\n",
       "    .dataframe tbody tr th:only-of-type {\n",
       "        vertical-align: middle;\n",
       "    }\n",
       "\n",
       "    .dataframe tbody tr th {\n",
       "        vertical-align: top;\n",
       "    }\n",
       "\n",
       "    .dataframe thead th {\n",
       "        text-align: right;\n",
       "    }\n",
       "</style>\n",
       "<table border=\"1\" class=\"dataframe\">\n",
       "  <thead>\n",
       "    <tr style=\"text-align: right;\">\n",
       "      <th></th>\n",
       "      <th>Unnamed: 0</th>\n",
       "      <th>book</th>\n",
       "      <th>book_num</th>\n",
       "      <th>chapter</th>\n",
       "      <th>chapter_num</th>\n",
       "      <th>character</th>\n",
       "      <th>full_text</th>\n",
       "      <th>character_words</th>\n",
       "      <th>writer</th>\n",
       "      <th>director</th>\n",
       "      <th>imdb_rating</th>\n",
       "    </tr>\n",
       "    <tr>\n",
       "      <th>id</th>\n",
       "      <th></th>\n",
       "      <th></th>\n",
       "      <th></th>\n",
       "      <th></th>\n",
       "      <th></th>\n",
       "      <th></th>\n",
       "      <th></th>\n",
       "      <th></th>\n",
       "      <th></th>\n",
       "      <th></th>\n",
       "      <th></th>\n",
       "    </tr>\n",
       "  </thead>\n",
       "  <tbody>\n",
       "    <tr>\n",
       "      <th>1</th>\n",
       "      <td>1</td>\n",
       "      <td>Water</td>\n",
       "      <td>1</td>\n",
       "      <td>The Boy in the Iceberg</td>\n",
       "      <td>1</td>\n",
       "      <td>Katara</td>\n",
       "      <td>Water. Earth. Fire. Air. My grandmother used t...</td>\n",
       "      <td>Water. Earth. Fire. Air. My grandmother used t...</td>\n",
       "      <td>&lt;U+200E&gt;Michael Dante DiMartino, Bryan Konietz...</td>\n",
       "      <td>Dave Filoni</td>\n",
       "      <td>8.1</td>\n",
       "    </tr>\n",
       "    <tr>\n",
       "      <th>2</th>\n",
       "      <td>2</td>\n",
       "      <td>Water</td>\n",
       "      <td>1</td>\n",
       "      <td>The Boy in the Iceberg</td>\n",
       "      <td>1</td>\n",
       "      <td>Scene Description</td>\n",
       "      <td>As the title card fades, the scene opens onto ...</td>\n",
       "      <td>NaN</td>\n",
       "      <td>&lt;U+200E&gt;Michael Dante DiMartino, Bryan Konietz...</td>\n",
       "      <td>Dave Filoni</td>\n",
       "      <td>8.1</td>\n",
       "    </tr>\n",
       "    <tr>\n",
       "      <th>3</th>\n",
       "      <td>3</td>\n",
       "      <td>Water</td>\n",
       "      <td>1</td>\n",
       "      <td>The Boy in the Iceberg</td>\n",
       "      <td>1</td>\n",
       "      <td>Sokka</td>\n",
       "      <td>It's not getting away from me this time. [Clos...</td>\n",
       "      <td>It's not getting away from me this time.  Watc...</td>\n",
       "      <td>&lt;U+200E&gt;Michael Dante DiMartino, Bryan Konietz...</td>\n",
       "      <td>Dave Filoni</td>\n",
       "      <td>8.1</td>\n",
       "    </tr>\n",
       "    <tr>\n",
       "      <th>4</th>\n",
       "      <td>4</td>\n",
       "      <td>Water</td>\n",
       "      <td>1</td>\n",
       "      <td>The Boy in the Iceberg</td>\n",
       "      <td>1</td>\n",
       "      <td>Scene Description</td>\n",
       "      <td>The shot pans quickly from the boy to Katara, ...</td>\n",
       "      <td>NaN</td>\n",
       "      <td>&lt;U+200E&gt;Michael Dante DiMartino, Bryan Konietz...</td>\n",
       "      <td>Dave Filoni</td>\n",
       "      <td>8.1</td>\n",
       "    </tr>\n",
       "    <tr>\n",
       "      <th>5</th>\n",
       "      <td>5</td>\n",
       "      <td>Water</td>\n",
       "      <td>1</td>\n",
       "      <td>The Boy in the Iceberg</td>\n",
       "      <td>1</td>\n",
       "      <td>Katara</td>\n",
       "      <td>[Happily surprised.] Sokka, look!</td>\n",
       "      <td>Sokka, look!</td>\n",
       "      <td>&lt;U+200E&gt;Michael Dante DiMartino, Bryan Konietz...</td>\n",
       "      <td>Dave Filoni</td>\n",
       "      <td>8.1</td>\n",
       "    </tr>\n",
       "    <tr>\n",
       "      <th>...</th>\n",
       "      <td>...</td>\n",
       "      <td>...</td>\n",
       "      <td>...</td>\n",
       "      <td>...</td>\n",
       "      <td>...</td>\n",
       "      <td>...</td>\n",
       "      <td>...</td>\n",
       "      <td>...</td>\n",
       "      <td>...</td>\n",
       "      <td>...</td>\n",
       "      <td>...</td>\n",
       "    </tr>\n",
       "    <tr>\n",
       "      <th>13381</th>\n",
       "      <td>13381</td>\n",
       "      <td>Fire</td>\n",
       "      <td>3</td>\n",
       "      <td>Sozin's Comet, Part 4: Avatar Aang</td>\n",
       "      <td>21</td>\n",
       "      <td>Suki</td>\n",
       "      <td>And why did you paint me firebending?</td>\n",
       "      <td>And why did you paint me firebending?</td>\n",
       "      <td>Aaron Ehasz, Michael Dante DiMartino, Bryan Ko...</td>\n",
       "      <td>Joaquim Dos Santos</td>\n",
       "      <td>9.8</td>\n",
       "    </tr>\n",
       "    <tr>\n",
       "      <th>13382</th>\n",
       "      <td>13382</td>\n",
       "      <td>Fire</td>\n",
       "      <td>3</td>\n",
       "      <td>Sozin's Comet, Part 4: Avatar Aang</td>\n",
       "      <td>21</td>\n",
       "      <td>Sokka</td>\n",
       "      <td>I thought it looked more exciting that way. [M...</td>\n",
       "      <td>I thought it looked more exciting that way.  O...</td>\n",
       "      <td>Aaron Ehasz, Michael Dante DiMartino, Bryan Ko...</td>\n",
       "      <td>Joaquim Dos Santos</td>\n",
       "      <td>9.8</td>\n",
       "    </tr>\n",
       "    <tr>\n",
       "      <th>13383</th>\n",
       "      <td>13383</td>\n",
       "      <td>Fire</td>\n",
       "      <td>3</td>\n",
       "      <td>Sozin's Comet, Part 4: Avatar Aang</td>\n",
       "      <td>21</td>\n",
       "      <td>Iroh</td>\n",
       "      <td>[Points at painting.] Hey, my belly's not that...</td>\n",
       "      <td>Hey, my belly's not that big anymore. I've rea...</td>\n",
       "      <td>Aaron Ehasz, Michael Dante DiMartino, Bryan Ko...</td>\n",
       "      <td>Joaquim Dos Santos</td>\n",
       "      <td>9.8</td>\n",
       "    </tr>\n",
       "    <tr>\n",
       "      <th>13384</th>\n",
       "      <td>13384</td>\n",
       "      <td>Fire</td>\n",
       "      <td>3</td>\n",
       "      <td>Sozin's Comet, Part 4: Avatar Aang</td>\n",
       "      <td>21</td>\n",
       "      <td>Toph</td>\n",
       "      <td>Well I think you all look perfect! [They laugh.]</td>\n",
       "      <td>Well I think you all look perfect!</td>\n",
       "      <td>Aaron Ehasz, Michael Dante DiMartino, Bryan Ko...</td>\n",
       "      <td>Joaquim Dos Santos</td>\n",
       "      <td>9.8</td>\n",
       "    </tr>\n",
       "    <tr>\n",
       "      <th>13385</th>\n",
       "      <td>13385</td>\n",
       "      <td>Fire</td>\n",
       "      <td>3</td>\n",
       "      <td>Sozin's Comet, Part 4: Avatar Aang</td>\n",
       "      <td>21</td>\n",
       "      <td>Scene Description</td>\n",
       "      <td>Aang walks past Appa, petting him briefly, bef...</td>\n",
       "      <td>NaN</td>\n",
       "      <td>Aaron Ehasz, Michael Dante DiMartino, Bryan Ko...</td>\n",
       "      <td>Joaquim Dos Santos</td>\n",
       "      <td>9.8</td>\n",
       "    </tr>\n",
       "  </tbody>\n",
       "</table>\n",
       "<p>13385 rows × 11 columns</p>\n",
       "</div>"
      ],
      "text/plain": [
       "       Unnamed: 0   book  book_num                             chapter  \\\n",
       "id                                                                       \n",
       "1               1  Water         1              The Boy in the Iceberg   \n",
       "2               2  Water         1              The Boy in the Iceberg   \n",
       "3               3  Water         1              The Boy in the Iceberg   \n",
       "4               4  Water         1              The Boy in the Iceberg   \n",
       "5               5  Water         1              The Boy in the Iceberg   \n",
       "...           ...    ...       ...                                 ...   \n",
       "13381       13381   Fire         3  Sozin's Comet, Part 4: Avatar Aang   \n",
       "13382       13382   Fire         3  Sozin's Comet, Part 4: Avatar Aang   \n",
       "13383       13383   Fire         3  Sozin's Comet, Part 4: Avatar Aang   \n",
       "13384       13384   Fire         3  Sozin's Comet, Part 4: Avatar Aang   \n",
       "13385       13385   Fire         3  Sozin's Comet, Part 4: Avatar Aang   \n",
       "\n",
       "       chapter_num          character  \\\n",
       "id                                      \n",
       "1                1             Katara   \n",
       "2                1  Scene Description   \n",
       "3                1              Sokka   \n",
       "4                1  Scene Description   \n",
       "5                1             Katara   \n",
       "...            ...                ...   \n",
       "13381           21               Suki   \n",
       "13382           21              Sokka   \n",
       "13383           21               Iroh   \n",
       "13384           21               Toph   \n",
       "13385           21  Scene Description   \n",
       "\n",
       "                                               full_text  \\\n",
       "id                                                         \n",
       "1      Water. Earth. Fire. Air. My grandmother used t...   \n",
       "2      As the title card fades, the scene opens onto ...   \n",
       "3      It's not getting away from me this time. [Clos...   \n",
       "4      The shot pans quickly from the boy to Katara, ...   \n",
       "5                      [Happily surprised.] Sokka, look!   \n",
       "...                                                  ...   \n",
       "13381              And why did you paint me firebending?   \n",
       "13382  I thought it looked more exciting that way. [M...   \n",
       "13383  [Points at painting.] Hey, my belly's not that...   \n",
       "13384   Well I think you all look perfect! [They laugh.]   \n",
       "13385  Aang walks past Appa, petting him briefly, bef...   \n",
       "\n",
       "                                         character_words  \\\n",
       "id                                                         \n",
       "1      Water. Earth. Fire. Air. My grandmother used t...   \n",
       "2                                                    NaN   \n",
       "3      It's not getting away from me this time.  Watc...   \n",
       "4                                                    NaN   \n",
       "5                                           Sokka, look!   \n",
       "...                                                  ...   \n",
       "13381              And why did you paint me firebending?   \n",
       "13382  I thought it looked more exciting that way.  O...   \n",
       "13383  Hey, my belly's not that big anymore. I've rea...   \n",
       "13384                 Well I think you all look perfect!   \n",
       "13385                                                NaN   \n",
       "\n",
       "                                                  writer            director  \\\n",
       "id                                                                             \n",
       "1      <U+200E>Michael Dante DiMartino, Bryan Konietz...         Dave Filoni   \n",
       "2      <U+200E>Michael Dante DiMartino, Bryan Konietz...         Dave Filoni   \n",
       "3      <U+200E>Michael Dante DiMartino, Bryan Konietz...         Dave Filoni   \n",
       "4      <U+200E>Michael Dante DiMartino, Bryan Konietz...         Dave Filoni   \n",
       "5      <U+200E>Michael Dante DiMartino, Bryan Konietz...         Dave Filoni   \n",
       "...                                                  ...                 ...   \n",
       "13381  Aaron Ehasz, Michael Dante DiMartino, Bryan Ko...  Joaquim Dos Santos   \n",
       "13382  Aaron Ehasz, Michael Dante DiMartino, Bryan Ko...  Joaquim Dos Santos   \n",
       "13383  Aaron Ehasz, Michael Dante DiMartino, Bryan Ko...  Joaquim Dos Santos   \n",
       "13384  Aaron Ehasz, Michael Dante DiMartino, Bryan Ko...  Joaquim Dos Santos   \n",
       "13385  Aaron Ehasz, Michael Dante DiMartino, Bryan Ko...  Joaquim Dos Santos   \n",
       "\n",
       "       imdb_rating  \n",
       "id                  \n",
       "1              8.1  \n",
       "2              8.1  \n",
       "3              8.1  \n",
       "4              8.1  \n",
       "5              8.1  \n",
       "...            ...  \n",
       "13381          9.8  \n",
       "13382          9.8  \n",
       "13383          9.8  \n",
       "13384          9.8  \n",
       "13385          9.8  \n",
       "\n",
       "[13385 rows x 11 columns]"
      ]
     },
     "execution_count": 205,
     "metadata": {},
     "output_type": "execute_result"
    }
   ],
   "source": [
    "#load relevant data files: taken from: https://www.kaggle.com/ekrembayar/avatar-the-last-air-bender\n",
    "avatar_data = pd.read_csv(\"./avatar.csv\",index_col=\"id\", encoding='cp1252')\n",
    "avatar_data"
   ]
  },
  {
   "cell_type": "code",
   "execution_count": 206,
   "metadata": {},
   "outputs": [],
   "source": [
    "\n",
    "avatar_data = avatar_data.drop(['Unnamed: 0'], axis=1) #drop unnamed row....\n",
    "avatar_data = avatar_data.rename(columns={'character_words':'line'})\n",
    "avatar_data = avatar_data.dropna(subset=['line']) #removes all\n",
    "null_data = avatar_data[avatar_data.isnull().any(axis=1)]\n",
    "null_data #the rating for episode 20 of book 1 is null, repplace it\n",
    "avatar_data.loc[avatar_data.imdb_rating.isnull(),'imdb_rating'] = 9.7\n",
    "\n"
   ]
  },
  {
   "cell_type": "code",
   "execution_count": 207,
   "metadata": {},
   "outputs": [
    {
     "data": {
      "text/html": [
       "<div>\n",
       "<style scoped>\n",
       "    .dataframe tbody tr th:only-of-type {\n",
       "        vertical-align: middle;\n",
       "    }\n",
       "\n",
       "    .dataframe tbody tr th {\n",
       "        vertical-align: top;\n",
       "    }\n",
       "\n",
       "    .dataframe thead th {\n",
       "        text-align: right;\n",
       "    }\n",
       "</style>\n",
       "<table border=\"1\" class=\"dataframe\">\n",
       "  <thead>\n",
       "    <tr style=\"text-align: right;\">\n",
       "      <th></th>\n",
       "      <th>book</th>\n",
       "      <th>book_num</th>\n",
       "      <th>chapter</th>\n",
       "      <th>chapter_num</th>\n",
       "      <th>character</th>\n",
       "      <th>full_text</th>\n",
       "      <th>line</th>\n",
       "      <th>writer</th>\n",
       "      <th>director</th>\n",
       "      <th>imdb_rating</th>\n",
       "      <th>episode_num</th>\n",
       "    </tr>\n",
       "    <tr>\n",
       "      <th>id</th>\n",
       "      <th></th>\n",
       "      <th></th>\n",
       "      <th></th>\n",
       "      <th></th>\n",
       "      <th></th>\n",
       "      <th></th>\n",
       "      <th></th>\n",
       "      <th></th>\n",
       "      <th></th>\n",
       "      <th></th>\n",
       "      <th></th>\n",
       "    </tr>\n",
       "  </thead>\n",
       "  <tbody>\n",
       "    <tr>\n",
       "      <th>1</th>\n",
       "      <td>Water</td>\n",
       "      <td>1</td>\n",
       "      <td>The Boy in the Iceberg</td>\n",
       "      <td>1</td>\n",
       "      <td>Katara</td>\n",
       "      <td>Water. Earth. Fire. Air. My grandmother used t...</td>\n",
       "      <td>Water. Earth. Fire. Air. My grandmother used t...</td>\n",
       "      <td>&lt;U+200E&gt;Michael Dante DiMartino, Bryan Konietz...</td>\n",
       "      <td>Dave Filoni</td>\n",
       "      <td>8.1</td>\n",
       "      <td>1</td>\n",
       "    </tr>\n",
       "    <tr>\n",
       "      <th>3</th>\n",
       "      <td>Water</td>\n",
       "      <td>1</td>\n",
       "      <td>The Boy in the Iceberg</td>\n",
       "      <td>1</td>\n",
       "      <td>Sokka</td>\n",
       "      <td>It's not getting away from me this time. [Clos...</td>\n",
       "      <td>It's not getting away from me this time.  Watc...</td>\n",
       "      <td>&lt;U+200E&gt;Michael Dante DiMartino, Bryan Konietz...</td>\n",
       "      <td>Dave Filoni</td>\n",
       "      <td>8.1</td>\n",
       "      <td>1</td>\n",
       "    </tr>\n",
       "    <tr>\n",
       "      <th>5</th>\n",
       "      <td>Water</td>\n",
       "      <td>1</td>\n",
       "      <td>The Boy in the Iceberg</td>\n",
       "      <td>1</td>\n",
       "      <td>Katara</td>\n",
       "      <td>[Happily surprised.] Sokka, look!</td>\n",
       "      <td>Sokka, look!</td>\n",
       "      <td>&lt;U+200E&gt;Michael Dante DiMartino, Bryan Konietz...</td>\n",
       "      <td>Dave Filoni</td>\n",
       "      <td>8.1</td>\n",
       "      <td>1</td>\n",
       "    </tr>\n",
       "    <tr>\n",
       "      <th>6</th>\n",
       "      <td>Water</td>\n",
       "      <td>1</td>\n",
       "      <td>The Boy in the Iceberg</td>\n",
       "      <td>1</td>\n",
       "      <td>Sokka</td>\n",
       "      <td>[Close-up of Sokka; whispering.] Sshh! Katara,...</td>\n",
       "      <td>Sshh! Katara, you're going to scare it away.  ...</td>\n",
       "      <td>&lt;U+200E&gt;Michael Dante DiMartino, Bryan Konietz...</td>\n",
       "      <td>Dave Filoni</td>\n",
       "      <td>8.1</td>\n",
       "      <td>1</td>\n",
       "    </tr>\n",
       "    <tr>\n",
       "      <th>8</th>\n",
       "      <td>Water</td>\n",
       "      <td>1</td>\n",
       "      <td>The Boy in the Iceberg</td>\n",
       "      <td>1</td>\n",
       "      <td>Katara</td>\n",
       "      <td>[Struggling with the water that passes right i...</td>\n",
       "      <td>But, Sokka! I caught one!</td>\n",
       "      <td>&lt;U+200E&gt;Michael Dante DiMartino, Bryan Konietz...</td>\n",
       "      <td>Dave Filoni</td>\n",
       "      <td>8.1</td>\n",
       "      <td>1</td>\n",
       "    </tr>\n",
       "    <tr>\n",
       "      <th>...</th>\n",
       "      <td>...</td>\n",
       "      <td>...</td>\n",
       "      <td>...</td>\n",
       "      <td>...</td>\n",
       "      <td>...</td>\n",
       "      <td>...</td>\n",
       "      <td>...</td>\n",
       "      <td>...</td>\n",
       "      <td>...</td>\n",
       "      <td>...</td>\n",
       "      <td>...</td>\n",
       "    </tr>\n",
       "    <tr>\n",
       "      <th>13380</th>\n",
       "      <td>Fire</td>\n",
       "      <td>3</td>\n",
       "      <td>Sozin's Comet, Part 4: Avatar Aang</td>\n",
       "      <td>21</td>\n",
       "      <td>Mai</td>\n",
       "      <td>I look like a man.</td>\n",
       "      <td>I look like a man.</td>\n",
       "      <td>Aaron Ehasz, Michael Dante DiMartino, Bryan Ko...</td>\n",
       "      <td>Joaquim Dos Santos</td>\n",
       "      <td>9.8</td>\n",
       "      <td>61</td>\n",
       "    </tr>\n",
       "    <tr>\n",
       "      <th>13381</th>\n",
       "      <td>Fire</td>\n",
       "      <td>3</td>\n",
       "      <td>Sozin's Comet, Part 4: Avatar Aang</td>\n",
       "      <td>21</td>\n",
       "      <td>Suki</td>\n",
       "      <td>And why did you paint me firebending?</td>\n",
       "      <td>And why did you paint me firebending?</td>\n",
       "      <td>Aaron Ehasz, Michael Dante DiMartino, Bryan Ko...</td>\n",
       "      <td>Joaquim Dos Santos</td>\n",
       "      <td>9.8</td>\n",
       "      <td>61</td>\n",
       "    </tr>\n",
       "    <tr>\n",
       "      <th>13382</th>\n",
       "      <td>Fire</td>\n",
       "      <td>3</td>\n",
       "      <td>Sozin's Comet, Part 4: Avatar Aang</td>\n",
       "      <td>21</td>\n",
       "      <td>Sokka</td>\n",
       "      <td>I thought it looked more exciting that way. [M...</td>\n",
       "      <td>I thought it looked more exciting that way.  O...</td>\n",
       "      <td>Aaron Ehasz, Michael Dante DiMartino, Bryan Ko...</td>\n",
       "      <td>Joaquim Dos Santos</td>\n",
       "      <td>9.8</td>\n",
       "      <td>61</td>\n",
       "    </tr>\n",
       "    <tr>\n",
       "      <th>13383</th>\n",
       "      <td>Fire</td>\n",
       "      <td>3</td>\n",
       "      <td>Sozin's Comet, Part 4: Avatar Aang</td>\n",
       "      <td>21</td>\n",
       "      <td>Iroh</td>\n",
       "      <td>[Points at painting.] Hey, my belly's not that...</td>\n",
       "      <td>Hey, my belly's not that big anymore. I've rea...</td>\n",
       "      <td>Aaron Ehasz, Michael Dante DiMartino, Bryan Ko...</td>\n",
       "      <td>Joaquim Dos Santos</td>\n",
       "      <td>9.8</td>\n",
       "      <td>61</td>\n",
       "    </tr>\n",
       "    <tr>\n",
       "      <th>13384</th>\n",
       "      <td>Fire</td>\n",
       "      <td>3</td>\n",
       "      <td>Sozin's Comet, Part 4: Avatar Aang</td>\n",
       "      <td>21</td>\n",
       "      <td>Toph</td>\n",
       "      <td>Well I think you all look perfect! [They laugh.]</td>\n",
       "      <td>Well I think you all look perfect!</td>\n",
       "      <td>Aaron Ehasz, Michael Dante DiMartino, Bryan Ko...</td>\n",
       "      <td>Joaquim Dos Santos</td>\n",
       "      <td>9.8</td>\n",
       "      <td>61</td>\n",
       "    </tr>\n",
       "  </tbody>\n",
       "</table>\n",
       "<p>9992 rows × 11 columns</p>\n",
       "</div>"
      ],
      "text/plain": [
       "        book  book_num                             chapter  chapter_num  \\\n",
       "id                                                                        \n",
       "1      Water         1              The Boy in the Iceberg            1   \n",
       "3      Water         1              The Boy in the Iceberg            1   \n",
       "5      Water         1              The Boy in the Iceberg            1   \n",
       "6      Water         1              The Boy in the Iceberg            1   \n",
       "8      Water         1              The Boy in the Iceberg            1   \n",
       "...      ...       ...                                 ...          ...   \n",
       "13380   Fire         3  Sozin's Comet, Part 4: Avatar Aang           21   \n",
       "13381   Fire         3  Sozin's Comet, Part 4: Avatar Aang           21   \n",
       "13382   Fire         3  Sozin's Comet, Part 4: Avatar Aang           21   \n",
       "13383   Fire         3  Sozin's Comet, Part 4: Avatar Aang           21   \n",
       "13384   Fire         3  Sozin's Comet, Part 4: Avatar Aang           21   \n",
       "\n",
       "      character                                          full_text  \\\n",
       "id                                                                   \n",
       "1        Katara  Water. Earth. Fire. Air. My grandmother used t...   \n",
       "3         Sokka  It's not getting away from me this time. [Clos...   \n",
       "5        Katara                  [Happily surprised.] Sokka, look!   \n",
       "6         Sokka  [Close-up of Sokka; whispering.] Sshh! Katara,...   \n",
       "8        Katara  [Struggling with the water that passes right i...   \n",
       "...         ...                                                ...   \n",
       "13380       Mai                                 I look like a man.   \n",
       "13381      Suki              And why did you paint me firebending?   \n",
       "13382     Sokka  I thought it looked more exciting that way. [M...   \n",
       "13383      Iroh  [Points at painting.] Hey, my belly's not that...   \n",
       "13384      Toph   Well I think you all look perfect! [They laugh.]   \n",
       "\n",
       "                                                    line  \\\n",
       "id                                                         \n",
       "1      Water. Earth. Fire. Air. My grandmother used t...   \n",
       "3      It's not getting away from me this time.  Watc...   \n",
       "5                                           Sokka, look!   \n",
       "6      Sshh! Katara, you're going to scare it away.  ...   \n",
       "8                              But, Sokka! I caught one!   \n",
       "...                                                  ...   \n",
       "13380                                 I look like a man.   \n",
       "13381              And why did you paint me firebending?   \n",
       "13382  I thought it looked more exciting that way.  O...   \n",
       "13383  Hey, my belly's not that big anymore. I've rea...   \n",
       "13384                 Well I think you all look perfect!   \n",
       "\n",
       "                                                  writer            director  \\\n",
       "id                                                                             \n",
       "1      <U+200E>Michael Dante DiMartino, Bryan Konietz...         Dave Filoni   \n",
       "3      <U+200E>Michael Dante DiMartino, Bryan Konietz...         Dave Filoni   \n",
       "5      <U+200E>Michael Dante DiMartino, Bryan Konietz...         Dave Filoni   \n",
       "6      <U+200E>Michael Dante DiMartino, Bryan Konietz...         Dave Filoni   \n",
       "8      <U+200E>Michael Dante DiMartino, Bryan Konietz...         Dave Filoni   \n",
       "...                                                  ...                 ...   \n",
       "13380  Aaron Ehasz, Michael Dante DiMartino, Bryan Ko...  Joaquim Dos Santos   \n",
       "13381  Aaron Ehasz, Michael Dante DiMartino, Bryan Ko...  Joaquim Dos Santos   \n",
       "13382  Aaron Ehasz, Michael Dante DiMartino, Bryan Ko...  Joaquim Dos Santos   \n",
       "13383  Aaron Ehasz, Michael Dante DiMartino, Bryan Ko...  Joaquim Dos Santos   \n",
       "13384  Aaron Ehasz, Michael Dante DiMartino, Bryan Ko...  Joaquim Dos Santos   \n",
       "\n",
       "       imdb_rating  episode_num  \n",
       "id                               \n",
       "1              8.1            1  \n",
       "3              8.1            1  \n",
       "5              8.1            1  \n",
       "6              8.1            1  \n",
       "8              8.1            1  \n",
       "...            ...          ...  \n",
       "13380          9.8           61  \n",
       "13381          9.8           61  \n",
       "13382          9.8           61  \n",
       "13383          9.8           61  \n",
       "13384          9.8           61  \n",
       "\n",
       "[9992 rows x 11 columns]"
      ]
     },
     "execution_count": 207,
     "metadata": {},
     "output_type": "execute_result"
    }
   ],
   "source": [
    "#add some rows\n",
    "def episode_num(row):\n",
    "    if(row.book_num==1):\n",
    "        return row.chapter_num\n",
    "    elif(row.book_num==2):\n",
    "        return 20 + row.chapter_num\n",
    "    elif(row.book_num==3):\n",
    "        return 40 + row.chapter_num\n",
    "avatar_data['episode_num'] = avatar_data.apply(episode_num,axis=1)\n",
    "avatar_data"
   ]
  },
  {
   "cell_type": "code",
   "execution_count": 208,
   "metadata": {
    "scrolled": false
   },
   "outputs": [
    {
     "data": {
      "text/plain": [
       "Text(0.5, 0.98, 'IMDB Rating of Avatar: The Last Airbender Episodes')"
      ]
     },
     "execution_count": 208,
     "metadata": {},
     "output_type": "execute_result"
    },
    {
     "data": {
      "image/png": "[encoded data removed]",
      "text/plain": [
       "<Figure size 635.375x576 with 1 Axes>"
      ]
     },
     "metadata": {
      "needs_background": "light"
     },
     "output_type": "display_data"
    }
   ],
   "source": [
    "#get rating for each season....\n",
    "rating_graph = sns.lmplot(data=avatar_data, x=\"episode_num\", y=\"imdb_rating\", hue=\"book_num\", palette=\"Set2\",height=8)\n",
    "rating_graph = rating_graph.set_axis_labels(\"Episode Number\", \"Rating\")\n",
    "fig = rating_graph.fig;\n",
    "fig.suptitle(\"IMDB Rating of Avatar: The Last Airbender Episodes\")"
   ]
  },
  {
   "cell_type": "code",
   "execution_count": 209,
   "metadata": {},
   "outputs": [
    {
     "data": {
      "text/plain": [
       "Text(0.5, 0, 'rating')"
      ]
     },
     "execution_count": 209,
     "metadata": {},
     "output_type": "execute_result"
    },
    {
     "data": {
      "image/png": "[encoded data removed]",
      "text/plain": [
       "<Figure size 360x504 with 1 Axes>"
      ]
     },
     "metadata": {
      "needs_background": "light"
     },
     "output_type": "display_data"
    }
   ],
   "source": [
    "avg_rating=[]\n",
    "for i in range(1,4):\n",
    "    avg_rating.append(avatar_data.loc[avatar_data.book_num==i].imdb_rating.mean())\n",
    "avg_rating\n",
    "plt.figure(figsize=(5,7))\n",
    "ax = sns.barplot(y=avg_rating,x=[1,2,3],dodge=False)\n",
    "ax.set_xlabel('rating')"
   ]
  },
  {
   "cell_type": "code",
   "execution_count": 216,
   "metadata": {},
   "outputs": [
    {
     "data": {
      "text/plain": [
       "<seaborn.axisgrid.FacetGrid at 0x7fcc2e0f8bb0>"
      ]
     },
     "execution_count": 216,
     "metadata": {},
     "output_type": "execute_result"
    },
    {
     "data": {
      "text/plain": [
       "<Figure size 864x504 with 0 Axes>"
      ]
     },
     "metadata": {},
     "output_type": "display_data"
    },
    {
     "data": {
      "image/png": "[encoded data removed]",
      "text/plain": [
       "<Figure size 519.625x360 with 1 Axes>"
      ]
     },
     "metadata": {
      "needs_background": "light"
     },
     "output_type": "display_data"
    }
   ],
   "source": [
    "plt.figure(figsize=(12,7))\n",
    "sns.lmplot(data=avatar_data, x=\"episode_num\", y=\"imdb_rating\", hue=\"director\", palette=\"Set2\")\n",
    "#sns.scatterplot(y=avatar_data[\"imdb_rating\"], x=avatar_data[\"director\"])"
   ]
  },
  {
   "cell_type": "code",
   "execution_count": 211,
   "metadata": {},
   "outputs": [
    {
     "data": {
      "text/plain": [
       "<AxesSubplot:xlabel='character', ylabel='count'>"
      ]
     },
     "execution_count": 211,
     "metadata": {},
     "output_type": "execute_result"
    },
    {
     "data": {
      "image/png": "[encoded data removed]",
      "text/plain": [
       "<Figure size 864x504 with 1 Axes>"
      ]
     },
     "metadata": {
      "needs_background": "light"
     },
     "output_type": "display_data"
    }
   ],
   "source": [
    "#which character that the most lines?\n",
    "plt.figure(figsize=(12,7))\n",
    "sns.countplot(data=avatar_data,x=\"character\", order=avatar_data.character.value_counts().iloc[:40].index, palette=\"Set2\")"
   ]
  },
  {
   "cell_type": "code",
   "execution_count": 212,
   "metadata": {},
   "outputs": [],
   "source": [
    "#sns.swarmplot(y=avatar_data[\"imdb_rating\"], x=avatar_data[\"director\"])"
   ]
  },
  {
   "cell_type": "code",
   "execution_count": 223,
   "metadata": {},
   "outputs": [
    {
     "data": {
      "text/plain": [
       "<AxesSubplot:xlabel='character', ylabel='count'>"
      ]
     },
     "execution_count": 223,
     "metadata": {},
     "output_type": "execute_result"
    },
    {
     "data": {
      "image/png": "[encoded data removed]",
      "text/plain": [
       "<Figure size 432x288 with 1 Axes>"
      ]
     },
     "metadata": {
      "needs_background": "light"
     },
     "output_type": "display_data"
    }
   ],
   "source": [
    "sns.countplot(data=avatar_data.loc[avatar_data.book_num==1],x=\"character\", order=avatar_data.character.value_counts().iloc[:10].index, palette=\"Set2\")"
   ]
  },
  {
   "cell_type": "code",
   "execution_count": 220,
   "metadata": {},
   "outputs": [
    {
     "data": {
      "text/plain": [
       "<AxesSubplot:xlabel='character', ylabel='count'>"
      ]
     },
     "execution_count": 220,
     "metadata": {},
     "output_type": "execute_result"
    },
    {
     "data": {
      "image/png": "[encoded data removed]",
      "text/plain": [
       "<Figure size 432x288 with 1 Axes>"
      ]
     },
     "metadata": {
      "needs_background": "light"
     },
     "output_type": "display_data"
    }
   ],
   "source": [
    "sns.countplot(data=avatar_data.loc[avatar_data.book_num==2],x=\"character\", order=avatar_data.character.value_counts().iloc[:10].index, palette=\"Set2\")"
   ]
  },
  {
   "cell_type": "code",
   "execution_count": 221,
   "metadata": {},
   "outputs": [
    {
     "data": {
      "text/plain": [
       "<AxesSubplot:xlabel='character', ylabel='count'>"
      ]
     },
     "execution_count": 221,
     "metadata": {},
     "output_type": "execute_result"
    },
    {
     "data": {
      "image/png": "[encoded data removed]",
      "text/plain": [
       "<Figure size 432x288 with 1 Axes>"
      ]
     },
     "metadata": {
      "needs_background": "light"
     },
     "output_type": "display_data"
    }
   ],
   "source": [
    "sns.countplot(data=avatar_data.loc[avatar_data.book_num==3],x=\"character\", order=avatar_data.character.value_counts().iloc[:10].index, palette=\"Set2\")"
   ]
  },
  {
   "cell_type": "code",
   "execution_count": null,
   "metadata": {},
   "outputs": [],
   "source": []
  }
 ],
 "metadata": {
  "kernelspec": {
   "display_name": "Python 3",
   "language": "python",
   "name": "python3"
  },
  "language_info": {
   "codemirror_mode": {
    "name": "ipython",
    "version": 3
   },
   "file_extension": ".py",
   "mimetype": "text/x-python",
   "name": "python",
   "nbconvert_exporter": "python",
   "pygments_lexer": "ipython3",
   "version": "3.8.5"
  }
 },
 "nbformat": 4,
 "nbformat_minor": 4
}
