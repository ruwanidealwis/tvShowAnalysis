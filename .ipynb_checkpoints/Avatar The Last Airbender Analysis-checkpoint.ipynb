{
 "cells": [
  {
   "cell_type": "code",
   "execution_count": null,
   "metadata": {},
   "outputs": [],
   "source": [
    "#set up\n",
    "import pandas as pd\n",
    "pd.plotting.register_matplotlib_converters()\n",
    "import matplotlib.pyplot as plt\n",
    "%matplotlib inline\n",
    "import seaborn as sns"
   ]
  },
  {
   "cell_type": "code",
   "execution_count": null,
   "metadata": {},
   "outputs": [],
   "source": [
    "#load relevant data files: taken from: https://www.kaggle.com/ekrembayar/avatar-the-last-air-bender\n",
    "avatar_data = pd.read_csv(\"./avatar.csv\",index_col=\"id\", encoding='cp1252')\n",
    "avatar_data"
   ]
  },
  {
   "cell_type": "code",
   "execution_count": null,
   "metadata": {},
   "outputs": [],
   "source": [
    "\n",
    "avatar_data = avatar_data.drop(['Unnamed: 0'], axis=1) #drop unnamed row....\n",
    "avatar_data = avatar_data.rename(columns={'character_words':'line'})\n",
    "avatar_data = avatar_data.dropna(subset=['line']) #removes all\n",
    "null_data = avatar_data[avatar_data.isnull().any(axis=1)]\n",
    "null_data #the rating for episode 20 of book 1 is null, repplace it\n",
    "avatar_data.loc[avatar_data.imdb_rating.isnull(),'imdb_rating'] = 9.7\n",
    "\n"
   ]
  },
  {
   "cell_type": "code",
   "execution_count": null,
   "metadata": {},
   "outputs": [],
   "source": [
    "#add some rows\n",
    "def episode_num(row):\n",
    "    if(row.book_num==1):\n",
    "        return row.chapter_num\n",
    "    elif(row.book_num==2):\n",
    "        return 20 + row.chapter_num\n",
    "    elif(row.book_num==3):\n",
    "        return 40 + row.chapter_num\n",
    "avatar_data['episode_num'] = avatar_data.apply(episode_num,axis=1)\n",
    "avatar_data"
   ]
  },
  {
   "cell_type": "code",
   "execution_count": null,
   "metadata": {
    "scrolled": false
   },
   "outputs": [],
   "source": [
    "#get rating for each season....\n",
    "rating_graph = sns.lmplot(data=avatar_data, x=\"episode_num\", y=\"imdb_rating\", hue=\"book_num\", palette=\"Set2\",height=8)\n",
    "rating_graph = rating_graph.set_axis_labels(\"Episode Number\", \"Rating\")\n",
    "fig = rating_graph.fig;\n",
    "fig.suptitle(\"IMDB Rating of Avatar: The Last Airbender Episodes\")"
   ]
  },
  {
   "cell_type": "code",
   "execution_count": null,
   "metadata": {},
   "outputs": [],
   "source": [
    "avg_rating=[]\n",
    "for i in range(1,4):\n",
    "    avg_rating.append(avatar_data.loc[avatar_data.book_num==i].imdb_rating.mean())\n",
    "avg_rating\n",
    "plt.figure(figsize=(5,7))\n",
    "ax = sns.barplot(y=avg_rating,x=[1,2,3],dodge=False)\n",
    "ax.set_xlabel('rating')"
   ]
  },
  {
   "cell_type": "code",
   "execution_count": null,
   "metadata": {},
   "outputs": [],
   "source": [
    "plt.figure(figsize=(12,7))\n",
    "sns.scatterplot(data=avatar_data, x=\"episode_num\", y=\"imdb_rating\", hue=\"director\", palette=\"Set2\")\n",
    "#sns.scatterplot(y=avatar_data[\"imdb_rating\"], x=avatar_data[\"director\"])"
   ]
  },
  {
   "cell_type": "code",
   "execution_count": null,
   "metadata": {},
   "outputs": [],
   "source": [
    "#which character that the most lines?\n",
    "plt.figure(figsize=(12,7))\n",
    "sns.countplot(data=avatar_data,x=\"character\", order=avatar_data.character.value_counts().iloc[:10].index, palette=\"Set2\")"
   ]
  },
  {
   "cell_type": "code",
   "execution_count": null,
   "metadata": {},
   "outputs": [
    {
     "name": "stderr",
     "output_type": "stream",
     "text": [
      "/Library/Frameworks/Python.framework/Versions/3.8/lib/python3.8/site-packages/seaborn/categorical.py:1296: UserWarning: 96.4% of the points cannot be placed; you may want to decrease the size of the markers or use stripplot.\n",
      "  warnings.warn(msg, UserWarning)\n",
      "/Library/Frameworks/Python.framework/Versions/3.8/lib/python3.8/site-packages/seaborn/categorical.py:1296: UserWarning: 97.1% of the points cannot be placed; you may want to decrease the size of the markers or use stripplot.\n",
      "  warnings.warn(msg, UserWarning)\n",
      "/Library/Frameworks/Python.framework/Versions/3.8/lib/python3.8/site-packages/seaborn/categorical.py:1296: UserWarning: 97.2% of the points cannot be placed; you may want to decrease the size of the markers or use stripplot.\n",
      "  warnings.warn(msg, UserWarning)\n",
      "/Library/Frameworks/Python.framework/Versions/3.8/lib/python3.8/site-packages/seaborn/categorical.py:1296: UserWarning: 95.9% of the points cannot be placed; you may want to decrease the size of the markers or use stripplot.\n",
      "  warnings.warn(msg, UserWarning)\n"
     ]
    }
   ],
   "source": [
    "#sns.swarmplot(y=avatar_data[\"imdb_rating\"], x=avatar_data[\"director\"])"
   ]
  },
  {
   "cell_type": "code",
   "execution_count": null,
   "metadata": {},
   "outputs": [],
   "source": []
  }
 ],
 "metadata": {
  "kernelspec": {
   "display_name": "Python 3",
   "language": "python",
   "name": "python3"
  }
 },
 "nbformat": 4,
 "nbformat_minor": 4
}
